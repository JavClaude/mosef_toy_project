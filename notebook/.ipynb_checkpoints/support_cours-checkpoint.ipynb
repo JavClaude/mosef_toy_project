{
 "cells": [
  {
   "cell_type": "markdown",
   "id": "b039a7bd",
   "metadata": {},
   "source": [
    "# String"
   ]
  },
  {
   "cell_type": "code",
   "execution_count": 10,
   "id": "8f3ba5f7",
   "metadata": {},
   "outputs": [
    {
     "name": "stdout",
     "output_type": "stream",
     "text": [
      "<class 'str'>\n",
      "PIERRE-ARTHUR\n",
      "pierre-arthur\n",
      "2\n",
      "P\n",
      "Pierre\n",
      "Pierre-ArthurClaude\n",
      "My first name is Pierre-Arthur and my last name is Claude\n",
      "My first name is Pierre-Arthur and my last name is Claude\n"
     ]
    }
   ],
   "source": [
    "first_name = \"Pierre-Arthur\"\n",
    "last_name = \"Claude\"\n",
    "\n",
    "print(type(first_name))  # <class 'str'>\n",
    "\n",
    "print(first_name.upper())  # \"PIERRE-ARTHUR\"\n",
    "print(first_name.lower())  # \"pierre-arthur\"\n",
    "print(first_name.count(\"e\"))  # 2\n",
    "print(first_name[0])  # \"P\"\n",
    "print(first_name[0:6])  # \"Pierre\"\n",
    "print(first_name + last_name)  # Pierre-Arthur Claude\"\n",
    "\n",
    "presentation_message_format = \"My first name is {} and my last name is {}\"\n",
    "print(presentation_message_format.format(first_name, last_name))  # \"My first name is Pierre-Arthur and my last name is Claude\"\n",
    "\n",
    "presentation_message_f_string = f\"My first name is {first_name} and my last name is {last_name}\"\n",
    "print(presentation_message_f_string)  # \"My first name is Pierre-Arthur and my last name is Claude\""
   ]
  },
  {
   "cell_type": "markdown",
   "id": "45867062",
   "metadata": {},
   "source": [
    "# List"
   ]
  },
  {
   "cell_type": "code",
   "execution_count": 7,
   "id": "53357ba0",
   "metadata": {},
   "outputs": [
    {
     "name": "stdout",
     "output_type": "stream",
     "text": [
      "2\n",
      "monday\n",
      "tuesday\n",
      "['monday', 'tuesday']\n",
      "['monday', 'tuesday']\n",
      "['tuesday', 'monday']\n",
      "sunday\n",
      "saturday\n",
      "['thursday', 'friday']\n",
      "wednesday\n",
      "tuesday\n",
      "monday\n",
      "tuesday\n",
      "wednesday\n",
      "['tuesday', 'wednesday', 'thursday', 'friday', 'saturday', 'sunday']\n",
      "tuesday wednesday thursday friday saturday sunday\n",
      "15\n"
     ]
    }
   ],
   "source": [
    "MONDAY = \"monday\"\n",
    "TUESDAY = \"tuesday\"\n",
    "WEDNESDAY = \"wednesday\"\n",
    "THURSDAY = \"thursday\"\n",
    "FRIDAY = \"friday\"\n",
    "SATURDAY = \"saturday\"\n",
    "SUNDAY = \"sunday\"\n",
    "\n",
    "day_of_week = [MONDAY, TUESDAY]\n",
    "\n",
    "print(len(day_of_week))  # 2\n",
    "print(day_of_week[0])  # \"monday\"\n",
    "print(day_of_week[-1])  # \"tuesday\"\n",
    "print(day_of_week[0:2])  # [\"monday\", \"tuesday\"]\n",
    "print(day_of_week[:])  # ['monday', 'tuesday']\n",
    "print(day_of_week[::-1])  # [\"tuesday\", \"monday\"]\n",
    "\n",
    "\n",
    "day_of_week.append(WEDNESDAY)  # [\"monday\", \"tuesday\", \"wednesday\"]\n",
    "day_of_week.append([THURSDAY, FRIDAY])  # [\"monday\", \"tuesday\", \"wednesday\", [\"thursday\", \"friday\"]]\n",
    "day_of_week.extend([\"saturday\", \"sunday\"])  # [\"monday\", \"tuesday\", \"wednesday\", [\"thursday\", \"friday\"], \"saturday\", \"sunday\"]\n",
    "day_of_week.reverse()  # ['sunday', 'saturday', ['thursday', 'friday'], 'wednesday', 'tuesday', 'monday']\n",
    "\n",
    "for day in day_of_week:\n",
    "    print(day)\n",
    "#    sunday\n",
    "#    saturday\n",
    "#    ['thursday', 'friday']\n",
    "#    wednesday\n",
    "#    tuesday\n",
    "\n",
    "day_of_week = [MONDAY, TUESDAY, WEDNESDAY, THURSDAY, FRIDAY, SATURDAY, SUNDAY]\n",
    "\n",
    "_, _, wednesday, thursday, friday, saturday, sunday = day_of_week\n",
    "print(_)  # tuesday\n",
    "print(wednesday)  # \"wednesday\"\n",
    "\n",
    "monday, *other_day = day_of_week\n",
    "print(other_day)  # ['tuesday', 'wednesday', 'thursday', 'friday', 'saturday', 'sunday']\n",
    "print(*other_day)  # tuesday wednesday thursday friday saturday sunday\n",
    "\n",
    "first_digits = [1, 2, 3, 4, 5]\n",
    "print(sum(first_digits))  # 15"
   ]
  },
  {
   "cell_type": "markdown",
   "id": "8ebb8035",
   "metadata": {},
   "source": [
    "## Dict"
   ]
  },
  {
   "cell_type": "code",
   "execution_count": 9,
   "id": "bf1e8e56",
   "metadata": {},
   "outputs": [
    {
     "name": "stdout",
     "output_type": "stream",
     "text": [
      "0.9\n",
      "1\n",
      "metric name: AUC, metric value: 1\n",
      "metric name: f1-score, metric value: 0.98\n",
      "metric name: accuracy, metric value: 0.91\n"
     ]
    }
   ],
   "source": [
    "AUC = \"AUC\"\n",
    "\n",
    "metrics = {\n",
    "    AUC: 0.90,\n",
    "    \"f1-score\": 0.98,\n",
    "    \"accuracy\": 0.91\n",
    "}\n",
    "\n",
    "print(metrics[AUC])  # 0.9\n",
    "metrics[AUC] = 1\n",
    "print(metrics[AUC])  # 1\n",
    "\n",
    "metrics.keys()  # dict_keys(['AUC', 'f1-score', 'accuracy'])\n",
    "metrics.values()  # dict_values([0.9, 0.98, 0.91])\n",
    "metrics.items()  # dict_items([('AUC', 0.9), ('f1-score', 0.98), ('accuracy', 0.91)])\n",
    "\n",
    "for metric, value in metrics.items():\n",
    "    print(f\"metric name: {metric}, metric value: {value}\")\n",
    "    # metric name: AUC, metric value: 1\n",
    "    # metric name: f1-score, metric value: 0.98\n",
    "    # metric name: accuracy, metric value: 0.91"
   ]
  },
  {
   "cell_type": "markdown",
   "id": "b0f9c5c6",
   "metadata": {},
   "source": [
    "## Tuple"
   ]
  },
  {
   "cell_type": "code",
   "execution_count": 8,
   "id": "91b74dbd",
   "metadata": {},
   "outputs": [
    {
     "name": "stdout",
     "output_type": "stream",
     "text": [
      "('Pierre-Arthur', 'Claude', 27)\n",
      "Pierre-Arthur\n",
      "Claude\n",
      "27\n"
     ]
    },
    {
     "ename": "TypeError",
     "evalue": "'tuple' object does not support item assignment",
     "output_type": "error",
     "traceback": [
      "\u001b[0;31m---------------------------------------------------------------------------\u001b[0m",
      "\u001b[0;31mTypeError\u001b[0m                                 Traceback (most recent call last)",
      "Input \u001b[0;32mIn [8]\u001b[0m, in \u001b[0;36m<cell line: 14>\u001b[0;34m()\u001b[0m\n\u001b[1;32m      9\u001b[0m     \u001b[38;5;28mprint\u001b[39m(id_element)\n\u001b[1;32m     10\u001b[0m     \u001b[38;5;66;03m# Pierre-Arthur\u001b[39;00m\n\u001b[1;32m     11\u001b[0m     \u001b[38;5;66;03m# Claude\u001b[39;00m\n\u001b[1;32m     12\u001b[0m     \u001b[38;5;66;03m# 27\u001b[39;00m\n\u001b[0;32m---> 14\u001b[0m \u001b[43mmy_identity\u001b[49m\u001b[43m[\u001b[49m\u001b[38;5;241;43m0\u001b[39;49m\u001b[43m]\u001b[49m \u001b[38;5;241m=\u001b[39m \u001b[38;5;124m\"\u001b[39m\u001b[38;5;124mAurelien\u001b[39m\u001b[38;5;124m\"\u001b[39m\n",
      "\u001b[0;31mTypeError\u001b[0m: 'tuple' object does not support item assignment"
     ]
    }
   ],
   "source": [
    "first_name = \"Pierre-Arthur\"\n",
    "last_name = \"Claude\"\n",
    "age = 27\n",
    "\n",
    "my_identity = tuple([first_name, last_name, age])\n",
    "print(my_identity)  # ('Pierre-Arthur', 'Claude', 27)\n",
    "\n",
    "for id_element in my_identity:\n",
    "    print(id_element)\n",
    "    # Pierre-Arthur\n",
    "    # Claude\n",
    "    # 27\n",
    "\n",
    "my_identity[0] = \"Aurelien\"  # TypeError: 'tuple' object does not support item assignment"
   ]
  },
  {
   "cell_type": "markdown",
   "id": "38d758f7",
   "metadata": {},
   "source": [
    "## Fonctions"
   ]
  },
  {
   "cell_type": "code",
   "execution_count": 11,
   "id": "2b95c642",
   "metadata": {},
   "outputs": [
    {
     "data": {
      "text/plain": [
       "445"
      ]
     },
     "execution_count": 11,
     "metadata": {},
     "output_type": "execute_result"
    }
   ],
   "source": [
    "def add_two_positive_integer_only(first_integer: int, second_integer: int) -> int:\n",
    "    if first_integer < 0 or second_integer < 0:\n",
    "        raise ValueError(\"Integers must be positive\")\n",
    "    return first_integer + second_integer\n",
    "\n",
    "# args\n",
    "def check_positive_integer(*args):\n",
    "    if all(map(lambda x: True if x > 0 else False, *args)):\n",
    "        return args\n",
    "    else:\n",
    "        raise ValueError(\"All integers must be > 0\")\n",
    "\n",
    "# args\n",
    "def add_positive_integer_with_args(*args) -> int:\n",
    "    check_positive_integer(args)\n",
    "    return sum(args)\n",
    "\n",
    "\n",
    "add_positive_integer_with_args(10, 20, 30, 40, 50)  # 150\n",
    "\n",
    "\n",
    "# kwargs\n",
    "def add_positive_integer_with_kwargs(**kwargs) -> int:\n",
    "    kwargs_values = kwargs.values()\n",
    "    check_positive_integer(kwargs_values)  # Convert the kwargs dict values to a list\n",
    "    return sum(kwargs_values)\n",
    "\n",
    "\n",
    "add_positive_integer_with_kwargs(first_integer=1, second=44, last=400)  # 445"
   ]
  },
  {
   "cell_type": "markdown",
   "id": "f25235a3",
   "metadata": {},
   "source": [
    "## Classes"
   ]
  },
  {
   "cell_type": "code",
   "execution_count": 26,
   "id": "d78a102b",
   "metadata": {},
   "outputs": [
    {
     "name": "stdout",
     "output_type": "stream",
     "text": [
      "-- Accès aux attributs -- \n",
      "Couleur: rouge\n",
      "\n",
      "Date de construction: rouge\n",
      "\n",
      "Voiture de couleur: rouge\n",
      "Date de construction: 2022\n",
      "Puissance: 200\n",
      "********************\n",
      "Voiture de couleur: jaune\n",
      "Date de construction: 2012\n",
      "Puissance: 150\n",
      "********************\n",
      "rouge\n"
     ]
    },
    {
     "ename": "ValueError",
     "evalue": "Le moteur n'est pas démarré",
     "output_type": "error",
     "traceback": [
      "\u001b[0;31m---------------------------------------------------------------------------\u001b[0m",
      "\u001b[0;31mValueError\u001b[0m                                Traceback (most recent call last)",
      "Input \u001b[0;32mIn [26]\u001b[0m, in \u001b[0;36m<cell line: 90>\u001b[0;34m()\u001b[0m\n\u001b[1;32m     87\u001b[0m \u001b[38;5;28mprint\u001b[39m(\u001b[38;5;124m\"\u001b[39m\u001b[38;5;124m*\u001b[39m\u001b[38;5;124m\"\u001b[39m \u001b[38;5;241m*\u001b[39m \u001b[38;5;241m20\u001b[39m)\n\u001b[1;32m     88\u001b[0m \u001b[38;5;28mprint\u001b[39m(voiture_de_sport\u001b[38;5;241m.\u001b[39mcouleur)\n\u001b[0;32m---> 90\u001b[0m \u001b[43mtester_acceleration_voiture\u001b[49m\u001b[43m(\u001b[49m\u001b[43mvoiture_de_sport\u001b[49m\u001b[43m)\u001b[49m\n\u001b[1;32m     91\u001b[0m tester_acceleration_voiture(voiture_de_ville)\n",
      "Input \u001b[0;32mIn [26]\u001b[0m, in \u001b[0;36mtester_acceleration_voiture\u001b[0;34m(voiture)\u001b[0m\n\u001b[1;32m     69\u001b[0m \u001b[38;5;28;01mdef\u001b[39;00m \u001b[38;5;21mtester_acceleration_voiture\u001b[39m(voiture: Voiture) \u001b[38;5;241m-\u001b[39m\u001b[38;5;241m>\u001b[39m \u001b[38;5;28;01mNone\u001b[39;00m:\n\u001b[0;32m---> 70\u001b[0m     \u001b[43mvoiture\u001b[49m\u001b[38;5;241;43m.\u001b[39;49m\u001b[43maccelerer\u001b[49m\u001b[43m(\u001b[49m\u001b[43m)\u001b[49m\n",
      "Input \u001b[0;32mIn [26]\u001b[0m, in \u001b[0;36mVoitureDeSport.accelerer\u001b[0;34m(self)\u001b[0m\n\u001b[1;32m     54\u001b[0m \u001b[38;5;28;01mdef\u001b[39;00m \u001b[38;5;21maccelerer\u001b[39m(\u001b[38;5;28mself\u001b[39m) \u001b[38;5;241m-\u001b[39m\u001b[38;5;241m>\u001b[39m \u001b[38;5;28;01mNone\u001b[39;00m:\n\u001b[0;32m---> 55\u001b[0m     \u001b[38;5;28;43mself\u001b[39;49m\u001b[38;5;241;43m.\u001b[39;49m\u001b[43m_verifier_si_moteur_est_bien_demarre\u001b[49m\u001b[43m(\u001b[49m\u001b[43m)\u001b[49m\n\u001b[1;32m     56\u001b[0m     \u001b[38;5;28mprint\u001b[39m(\u001b[38;5;124m\"\u001b[39m\u001b[38;5;124mAccélération voiture de sport\u001b[39m\u001b[38;5;124m\"\u001b[39m)\n",
      "Input \u001b[0;32mIn [26]\u001b[0m, in \u001b[0;36mVoiture._verifier_si_moteur_est_bien_demarre\u001b[0;34m(self)\u001b[0m\n\u001b[1;32m     28\u001b[0m \u001b[38;5;28;01mdef\u001b[39;00m \u001b[38;5;21m_verifier_si_moteur_est_bien_demarre\u001b[39m(\u001b[38;5;28mself\u001b[39m) \u001b[38;5;241m-\u001b[39m\u001b[38;5;241m>\u001b[39m \u001b[38;5;28;01mNone\u001b[39;00m:\n\u001b[1;32m     29\u001b[0m     \u001b[38;5;28;01mif\u001b[39;00m \u001b[38;5;129;01mnot\u001b[39;00m \u001b[38;5;28mself\u001b[39m\u001b[38;5;241m.\u001b[39m__moteur_demarre:\n\u001b[0;32m---> 30\u001b[0m         \u001b[38;5;28;01mraise\u001b[39;00m \u001b[38;5;167;01mValueError\u001b[39;00m(\u001b[38;5;124m\"\u001b[39m\u001b[38;5;124mLe moteur n\u001b[39m\u001b[38;5;124m'\u001b[39m\u001b[38;5;124mest pas démarré\u001b[39m\u001b[38;5;124m\"\u001b[39m)\n",
      "\u001b[0;31mValueError\u001b[0m: Le moteur n'est pas démarré"
     ]
    }
   ],
   "source": [
    "from abc import abstractmethod\n",
    "\n",
    "\n",
    "class Voiture:\n",
    "    def __init__(self, couleur: str, date_de_construction: int, puissance: int) -> None:\n",
    "        self.couleur = couleur\n",
    "        self.date_de_construction = date_de_construction\n",
    "        self.puissance = puissance\n",
    "        self.__voiture_ouverte = False\n",
    "        self.__moteur_demarre = False\n",
    "    \n",
    "    def ouvrir_la_voiture(self) -> None:\n",
    "        self.__voiture_ouverte = True\n",
    "        print(\"Ouverture de la voiture\")\n",
    "    \n",
    "    def fermer_la_voiture(self) -> None:\n",
    "        self.__voiture_ouverte = False\n",
    "        print(\"Fermeture de la voiture\")\n",
    "    \n",
    "    def demarrer_le_moteur(self) -> None:\n",
    "        self.__moteur_demarre = True\n",
    "        print(\"Démarrage du moteur pour:\\n{}\".format(self))\n",
    "        \n",
    "    def eteindre_le_moteur(self) -> None:\n",
    "        self.__moteur_demarre = False\n",
    "        print(\"Le moteur est arrete pour:\\n{}\".format(self))\n",
    "        \n",
    "    def _verifier_si_moteur_est_bien_demarre(self) -> None:\n",
    "        if not self.__moteur_demarre:\n",
    "            raise ValueError(\"Le moteur n'est pas démarré\")\n",
    "    \n",
    "    #@staticmethod\n",
    "    # def demarrer_le_moteur() -> None:\n",
    "        # print(\"Démarrage du moteur\") \n",
    "    \n",
    "    @abstractmethod\n",
    "    def accelerer(self) -> None:\n",
    "        pass\n",
    "    \n",
    "    def rouler(self) -> None:\n",
    "        self.demarrer_le_moteur()\n",
    "        self.accelerer()\n",
    "    \n",
    "    def __str__(self) -> str:\n",
    "        return \"Voiture de couleur: {}\\nDate de construction: {}\\nPuissance: {}\".format(\n",
    "            self.couleur, self.date_de_construction, self.puissance\n",
    "        )\n",
    "\n",
    "\n",
    "class VoitureDeSport(Voiture):\n",
    "    def __init__(self, couleur: str, date_de_construction: int, puissance: int) -> None:\n",
    "        super(VoitureDeSport, self).__init__(couleur, date_de_construction, puissance)\n",
    "\n",
    "    def accelerer(self) -> None:\n",
    "        self._verifier_si_moteur_est_bien_demarre()\n",
    "        print(\"Accélération voiture de sport\")\n",
    "        # Implémenter l'accélération d'une voiture de sport\n",
    "\n",
    "\n",
    "class VoitureDeVille(Voiture):\n",
    "    def __init__(self, couleur: str, date_de_construction: int, puissance: int) -> None:\n",
    "        super(VoitureDeVille, self).__init__(couleur, date_de_construction, puissance)\n",
    "        \n",
    "    def accelerer(self) -> None:\n",
    "        print(\"Accélération voiture de ville\")\n",
    "        # Implémenter l'accélération d'une voiture classique    \n",
    "\n",
    "\n",
    "def tester_acceleration_voiture(voiture: Voiture) -> None:\n",
    "    voiture.accelerer()\n",
    "\n",
    "# On instancie nos classes\n",
    "voiture_de_sport = VoitureDeSport(\"rouge\", 2022, 200)\n",
    "voiture_de_ville = VoitureDeVille(\"jaune\", 2012, 150)    \n",
    "    \n",
    "# Accès aux attributs non privés\n",
    "print(\"-- Accès aux attributs -- \")\n",
    "print(\"Couleur: {}\\n\".format(voiture_de_sport.couleur))\n",
    "print(\"Date de construction: {}\\n\".format(voiture_de_sport.couleur))\n",
    "\n",
    "# Accès aux attributs privés \n",
    "# voiture_de_sport.__voiture_ouverte une erreur est levée\n",
    "\n",
    "print(voiture_de_sport)\n",
    "print(\"*\" * 20)\n",
    "print(voiture_de_ville)\n",
    "print(\"*\" * 20)\n",
    "print(voiture_de_sport.couleur)\n",
    "\n",
    "tester_acceleration_voiture(voiture_de_sport)\n",
    "tester_acceleration_voiture(voiture_de_ville)"
   ]
  },
  {
   "cell_type": "code",
   "execution_count": null,
   "id": "5c466552",
   "metadata": {},
   "outputs": [],
   "source": []
  }
 ],
 "metadata": {
  "kernelspec": {
   "display_name": "Python 3 (ipykernel)",
   "language": "python",
   "name": "python3"
  },
  "language_info": {
   "codemirror_mode": {
    "name": "ipython",
    "version": 3
   },
   "file_extension": ".py",
   "mimetype": "text/x-python",
   "name": "python",
   "nbconvert_exporter": "python",
   "pygments_lexer": "ipython3",
   "version": "3.9.10"
  }
 },
 "nbformat": 4,
 "nbformat_minor": 5
}
